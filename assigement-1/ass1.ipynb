{
 "cells": [
  {
   "cell_type": "markdown",
   "id": "d2a00444-f5f4-4c43-92e3-833cb293980a",
   "metadata": {
    "jp-MarkdownHeadingCollapsed": true
   },
   "source": [
    "***qn.3 -> 3.\tFind the count of occurrence of each city in the dataset and create a dictionary such that the keys are the unique city names, \n",
    "and the values are their count of occurrence.***"
   ]
  },
  {
   "cell_type": "code",
   "execution_count": 10,
   "id": "1d9ddd72-2cf6-4946-a3b4-3f39d885cb27",
   "metadata": {},
   "outputs": [
    {
     "name": "stdout",
     "output_type": "stream",
     "text": [
      "Here are the cities with their occurances\n",
      "{'\"Agartala\"': 1, '\"Ahmedabad\"': 43, '\"AJMER\"': 2, '\"ALIGARH\"': 4, '\"AMBALA\"': 11, '\"AMRITSAR\"': 39, '\"BAGHPAT\"': 1, '\"Bangalore\"': 37, '\"Bhopal\"': 26, '\"Bhubaneswar\"': 13, '\"Chandigarh\"': 29, '\"Chennai\"': 36, '\"Dehradun\"': 17, '\"Delhi and NCR\"': 432, '\"GUNTUR\"': 4, '\"Guwahati\"': 5, '\"Hyderabad\"': 83, '\"INDORE\"': 4, '\"Jabalpur\"': 38, '\"Jaipur\"': 74, '\"JALANDHAR\"': 29, '\"JAMMU\"': 2, '\"JODHPUR\"': 12, '\"Kanpur\"': 46, '\"Kolkata\"': 39, '\"KOTA\"': 2, '\"Lucknow\"': 39, '\"Meerut\"': 45, '\"MORADABAD\"': 7, '\"Mumbai\"': 70, '\"Nagpur\"': 88, '\"NELLORE\"': 4, '\"Patna\"': 35, '\"PONDICHERRY\"': 5, '\"Prayagraj\"': 34, '\"Pune\"': 65, '\"RAIPUR\"': 6, '\"Ranchi\"': 12, '\"SAHARANPUR\"': 1, '\"Shillong\"': 2, '\"SILIGURI\"': 3, '\"TRICHY\"': 1, '\"VADODARA\"': 6, '\"VARANASI\"': 18, '\"VIJYAWADA\"': 1, '\"Visakhapatnam\"': 28}\n"
     ]
    }
   ],
   "source": [
    "def count_city_occurrences(file_path):\n",
    "    \n",
    "    city_count = {}\n",
    "    \n",
    "    with open(file_path, 'r') as file:\n",
    "        \n",
    "        next(file)  #Skip the header line\n",
    "        \n",
    "        for line in file:\n",
    "            \n",
    "            city = line.strip().split(',')[0]   #each city is extracted\n",
    "            \n",
    "            if city in city_count:\n",
    "                \n",
    "                city_count[city] += 1\n",
    "                \n",
    "            else:\n",
    "                \n",
    "                city_count[city] = 1\n",
    "                \n",
    "    return city_count\n",
    "    \n",
    "print('Here are the cities with their occurances')\n",
    "\n",
    "file_path = 'LabAssignment_Day1/Dataset_Day1.csv'\n",
    "\n",
    "city_counts = count_city_occurrences(file_path)\n",
    "\n",
    "print(city_counts)\n",
    "\n",
    "\n"
   ]
  },
  {
   "cell_type": "markdown",
   "id": "24dc7d16-a403-4791-b6d1-a36aa6533b83",
   "metadata": {},
   "source": [
    "**1.Write a Python program to check if a given number is prime or not.**"
   ]
  },
  {
   "cell_type": "code",
   "execution_count": 1,
   "id": "7b65baae-a0ca-489a-96ca-63d7341d2bd1",
   "metadata": {},
   "outputs": [
    {
     "name": "stdout",
     "output_type": "stream",
     "text": [
      "Enter a number:  2\n"
     ]
    },
    {
     "name": "stdout",
     "output_type": "stream",
     "text": [
      "2 is a prime number.\n"
     ]
    }
   ],
   "source": [
    "def is_prime(number):\n",
    "    if number <= 1:\n",
    "        return False\n",
    "    for i in range(2, int(number ** 0.5) + 1):\n",
    "        if number % i == 0:\n",
    "            return False\n",
    "    return True\n",
    "\n",
    "# Test the function\n",
    "num = int(input(\"Enter a number: \"))\n",
    "if is_prime(num):\n",
    "    print(f\"{num} is a prime number.\")\n",
    "else:\n",
    "    print(f\"{num} is not a prime number.\")\n"
   ]
  },
  {
   "cell_type": "markdown",
   "id": "3c747f2c-550a-430b-824b-ec6a90c7427e",
   "metadata": {},
   "source": [
    "**4.\tCreate a set of all the cities with at-least one Apollo hospital.**"
   ]
  },
  {
   "cell_type": "code",
   "execution_count": 4,
   "id": "96417273-4433-4433-ad26-805adbca689b",
   "metadata": {},
   "outputs": [
    {
     "name": "stdout",
     "output_type": "stream",
     "text": [
      "Below are the set of cities\n",
      "{'\"Ahmedabad\"', '\"Kanpur\"', '\"Delhi and NCR\"', '\"Jaipur\"', '\"Bangalore\"'}\n"
     ]
    }
   ],
   "source": [
    "def cities_with_apollo(file_path):\n",
    "\n",
    "    apollo_cities = set()\n",
    "\n",
    "    with open(file_path, 'r') as file:\n",
    "\n",
    "        next(file)  #Skip the header line\n",
    "\n",
    "        for line in file:\n",
    "\n",
    "            parts = line.strip().split(',')\n",
    "\n",
    "            city, hospital = parts[0], parts[1]  #Extract cityName and hospitalName\n",
    "\n",
    "            if \"Apollo\" in hospital:\n",
    "\n",
    "                apollo_cities.add(city)\n",
    "\n",
    "    return apollo_cities\n",
    "\n",
    "print('Below are the set of cities')\n",
    "\n",
    "file_path = 'LabAssignment_Day1/Dataset_Day1.csv'  #Path to file\n",
    "\n",
    "apollo_hospital_cities = cities_with_apollo(file_path)\n",
    "\n",
    "print(apollo_hospital_cities)   #Print"
   ]
  },
  {
   "cell_type": "markdown",
   "id": "f4be3e85-c645-4125-9942-65ffb2283b16",
   "metadata": {},
   "source": [
    "**1.\tWrite a function to input a number below 50 and print it’s factorial.**"
   ]
  },
  {
   "cell_type": "code",
   "execution_count": 11,
   "id": "e8cc99ba-b104-4712-af42-3ced3e25e0a5",
   "metadata": {},
   "outputs": [
    {
     "name": "stdout",
     "output_type": "stream",
     "text": [
      "Enter a number below 50:  20\n"
     ]
    },
    {
     "name": "stdout",
     "output_type": "stream",
     "text": [
      "The factorial of 20 is 2432902008176640000\n"
     ]
    }
   ],
   "source": [
    "def factorial(n):\n",
    "    if n < 0:\n",
    "        return \"Factorial is not defined for negative numbers\"\n",
    "    elif n == 0 or n == 1:\n",
    "        return 1\n",
    "    else:\n",
    "        fact = 1\n",
    "        for i in range(2, n + 1):\n",
    "            fact *= i\n",
    "        return fact\n",
    "\n",
    "def main():\n",
    "    while True:\n",
    "        try:\n",
    "            number = int(input(\"Enter a number below 50: \"))\n",
    "            if number >= 50:\n",
    "                print(\"Number should be below 50. Please try again.\")\n",
    "            else:\n",
    "                break\n",
    "        except ValueError:\n",
    "            print(\"Invalid input. Please enter a valid number.\")\n",
    "    \n",
    "    result = factorial(number)\n",
    "    print(f\"The factorial of {number} is {result}\")\n",
    "\n",
    "if __name__ == \"__main__\":\n",
    "    main()\n"
   ]
  }
 ],
 "metadata": {
  "kernelspec": {
   "display_name": "Python 3 (ipykernel)",
   "language": "python",
   "name": "python3"
  },
  "language_info": {
   "codemirror_mode": {
    "name": "ipython",
    "version": 3
   },
   "file_extension": ".py",
   "mimetype": "text/x-python",
   "name": "python",
   "nbconvert_exporter": "python",
   "pygments_lexer": "ipython3",
   "version": "3.12.4"
  }
 },
 "nbformat": 4,
 "nbformat_minor": 5
}
